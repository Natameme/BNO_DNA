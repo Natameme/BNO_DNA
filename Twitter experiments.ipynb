{
 "cells": [
  {
   "cell_type": "code",
   "execution_count": 1,
   "id": "64aead7f",
   "metadata": {},
   "outputs": [],
   "source": [
    "#Install everything\n",
    "#pip3 install python-osc\n",
    "#pip3 install twitter\n",
    "#pip3 install numpy\n",
    "#pip3 install nltk"
   ]
  },
  {
   "cell_type": "code",
   "execution_count": 24,
   "id": "b045faf8",
   "metadata": {},
   "outputs": [],
   "source": [
    "# Import everything\n",
    "import twitter\n",
    "from pythonosc.udp_client import SimpleUDPClient\n",
    "import nltk\n",
    "from nltk.sentiment.vader import SentimentIntensityAnalyzer\n",
    "import json\n",
    "#import numpy as np"
   ]
  },
  {
   "cell_type": "code",
   "execution_count": 25,
   "id": "a84e8889",
   "metadata": {},
   "outputs": [],
   "source": [
    "# Instantiate the twitter api client\n",
    "CONSUMER_KEY = 'OWAwcOfkzNSlIBGhAtQdNY4Im'\n",
    "CONSUMER_SECRET = '14iE08KZpZx44b4B0WfoAqvOPF7kXNdzkkv7fmXreqKb1fCzMc'\n",
    "OAUTH_TOKEN = ''\n",
    "OAUTH_TOKEN_SECRET = ''\n",
    "\n",
    "auth = twitter.oauth.OAuth(OAUTH_TOKEN, OAUTH_TOKEN_SECRET,\n",
    "                           CONSUMER_KEY, CONSUMER_SECRET)\n",
    "\n",
    "twitter_api = twitter.Twitter(auth=auth)"
   ]
  },
  {
   "cell_type": "code",
   "execution_count": 26,
   "id": "7a0853ca",
   "metadata": {},
   "outputs": [],
   "source": [
    "# Instantiate the OSC UDP client\n",
    "ip = \"127.0.0.1\"\n",
    "port = 57120\n",
    "\n",
    "client = SimpleUDPClient(ip, port)  # Create OSC client\n"
   ]
  },
  {
   "cell_type": "code",
   "execution_count": 27,
   "id": "4bf62fd0",
   "metadata": {},
   "outputs": [
    {
     "name": "stderr",
     "output_type": "stream",
     "text": [
      "[nltk_data] Downloading package vader_lexicon to\n",
      "[nltk_data]     /Users/juanrieragomez/nltk_data...\n",
      "[nltk_data]   Package vader_lexicon is already up-to-date!\n"
     ]
    }
   ],
   "source": [
    "# Instantiate the sentiment analyzer\n",
    "nltk.download('vader_lexicon')\n",
    "analyzer = SentimentIntensityAnalyzer()"
   ]
  },
  {
   "cell_type": "code",
   "execution_count": 94,
   "id": "a548088d",
   "metadata": {},
   "outputs": [
    {
     "name": "stdout",
     "output_type": "stream",
     "text": [
      "50\n"
     ]
    }
   ],
   "source": [
    "# Obtain world trends\n",
    "WORLD_WOE_ID = 1\n",
    "US_WOE_ID = 23424977\n",
    "world_trends = twitter_api.trends.place(_id=WORLD_WOE_ID)\n",
    "print(len(world_trends[0]['trends']))"
   ]
  },
  {
   "cell_type": "code",
   "execution_count": 29,
   "id": "136847cb",
   "metadata": {},
   "outputs": [
    {
     "name": "stdout",
     "output_type": "stream",
     "text": [
      "{'neg': 0.025540160642570288, 'neu': 0.908483935742972, 'pos': 0.06599799196787151, 'compound': 0.10194598393574301}\n"
     ]
    }
   ],
   "source": [
    "# Obtain average twitter sentiment\n",
    "count = 0\n",
    "sentiment = {'neg': 0.0, 'neu': 0.0, 'pos': 0.0, 'compound': 0.0}\n",
    "for trend in world_trends[0]['trends']:\n",
    "    search_results = twitter_api.search.tweets(q=trend['query'], count=100, result_type='popular')   \n",
    "    keys=['neg', 'neu', 'pos', 'compound']\n",
    "    for status in search_results['statuses']:\n",
    "        tweet_sentiment = analyzer.polarity_scores(status['text'])\n",
    "        for key in keys:\n",
    "            sentiment[key] += tweet_sentiment[key]\n",
    "        count +=1\n",
    "\n",
    "for key in keys:\n",
    "    sentiment[key] /= count\n",
    "\n",
    "print(sentiment)"
   ]
  },
  {
   "cell_type": "code",
   "execution_count": 30,
   "id": "159ad92f",
   "metadata": {},
   "outputs": [],
   "source": [
    "# Send the sentiment to SC\n",
    "client.send_message(\"/BNOOSC/Sentiment/\", [sentiment['neg'], sentiment['neu'], sentiment['pos'], sentiment['compound']])\n",
    "\n"
   ]
  },
  {
   "cell_type": "code",
   "execution_count": 56,
   "id": "9b703b80",
   "metadata": {},
   "outputs": [],
   "source": [
    "since_id_hashtag = 0\n",
    "init_tweet_text = 'init'"
   ]
  },
  {
   "cell_type": "code",
   "execution_count": 79,
   "id": "acc1cdb7",
   "metadata": {},
   "outputs": [],
   "source": [
    "# Scan for custom Hashtags\n",
    "customHashtag = '#BNODNA'\n",
    "q = customHashtag +' since_id:' + str(since_id_hashtag)\n",
    "count = 10\n",
    "search_results = twitter_api.search.tweets(q=q, count=count)\n",
    "statuses = search_results['statuses']\n",
    "#print(json.dumps(statuses[0], indent=1))\n",
    "#for status in statuses:\n",
    "#    print(status['text'])\n",
    "if(len(statuses)>0):\n",
    "    since_id_hashtag = statuses[0]['id']"
   ]
  },
  {
   "cell_type": "code",
   "execution_count": 80,
   "id": "bc035991",
   "metadata": {},
   "outputs": [],
   "source": [
    "# Send the customTweet to SC\n",
    "for status in statuses:\n",
    "    if customHashtag in status['text'] and init_tweet_text in status['text']:\n",
    "        print(\"INIT HASHTAG FOUND \" + status['created_at'])\n",
    "    else:\n",
    "        client.send_message(\"/BNOOSC/CustomHashtag/\", [customHashtag, status['text'].replace(customHashtag, '').strip()])"
   ]
  },
  {
   "cell_type": "code",
   "execution_count": 85,
   "id": "23954e59",
   "metadata": {},
   "outputs": [],
   "source": [
    "# Create note strings\n",
    "notes = ['#A', '#B', '#C', '#D', '#E', '#F', '#G']\n",
    "flats = []\n",
    "sharps = []\n",
    "for note in notes:\n",
    "    flats.append(note + 'f')\n",
    "    sharps.append(note + 's')"
   ]
  },
  {
   "cell_type": "code",
   "execution_count": 112,
   "id": "be95d113",
   "metadata": {},
   "outputs": [],
   "source": [
    "a = ['']*12"
   ]
  },
  {
   "cell_type": "code",
   "execution_count": 113,
   "id": "98fcdc58",
   "metadata": {},
   "outputs": [],
   "source": [
    "a[2:3] = ['a', 'b', 'c', 'd']"
   ]
  },
  {
   "cell_type": "code",
   "execution_count": 127,
   "id": "60cafb06",
   "metadata": {},
   "outputs": [
    {
     "name": "stdout",
     "output_type": "stream",
     "text": [
      "1\n",
      "2\n"
     ]
    }
   ],
   "source": [
    "a = {'a': 1, 'b':2}\n",
    "\n",
    "for b in a:\n",
    "    print(a[b])"
   ]
  },
  {
   "cell_type": "code",
   "execution_count": 128,
   "id": "98ba8d96",
   "metadata": {},
   "outputs": [
    {
     "data": {
      "text/plain": [
       "{'a': 1, 'b': 2}"
      ]
     },
     "execution_count": 128,
     "metadata": {},
     "output_type": "execute_result"
    }
   ],
   "source": [
    "a.copy()"
   ]
  },
  {
   "cell_type": "code",
   "execution_count": 124,
   "id": "578254a3",
   "metadata": {},
   "outputs": [
    {
     "data": {
      "text/plain": [
       "['a', 'b']"
      ]
     },
     "execution_count": 124,
     "metadata": {},
     "output_type": "execute_result"
    }
   ],
   "source": [
    "list(a.keys()).copy()"
   ]
  },
  {
   "cell_type": "code",
   "execution_count": 129,
   "id": "92505b1e",
   "metadata": {},
   "outputs": [],
   "source": [
    "base_sentiment = {'neg': 0.0, 'neu': 0.0, 'pos': 0.0, 'compound': 0.0, 'count': 0}"
   ]
  },
  {
   "cell_type": "code",
   "execution_count": 131,
   "id": "c8f35337",
   "metadata": {},
   "outputs": [
    {
     "ename": "TypeError",
     "evalue": "unhashable type: 'dict'",
     "output_type": "error",
     "traceback": [
      "\u001b[0;31m---------------------------------------------------------------------------\u001b[0m",
      "\u001b[0;31mTypeError\u001b[0m                                 Traceback (most recent call last)",
      "Input \u001b[0;32mIn [131]\u001b[0m, in \u001b[0;36m<cell line: 1>\u001b[0;34m()\u001b[0m\n\u001b[0;32m----> 1\u001b[0m \u001b[38;5;28;43mdict\u001b[39;49m\u001b[38;5;241;43m.\u001b[39;49m\u001b[43mfromkeys\u001b[49m\u001b[43m(\u001b[49m\u001b[43mtwitter_api\u001b[49m\u001b[38;5;241;43m.\u001b[39;49m\u001b[43mtrends\u001b[49m\u001b[38;5;241;43m.\u001b[39;49m\u001b[43mplace\u001b[49m\u001b[43m(\u001b[49m\u001b[43m_id\u001b[49m\u001b[38;5;241;43m=\u001b[39;49m\u001b[43mWORLD_WOE_ID\u001b[49m\u001b[43m)\u001b[49m\u001b[43m[\u001b[49m\u001b[43m:\u001b[49m\u001b[38;5;241;43m50\u001b[39;49m\u001b[43m]\u001b[49m\u001b[43m,\u001b[49m\u001b[43m \u001b[49m\u001b[43m\\\u001b[49m\n\u001b[1;32m      2\u001b[0m \u001b[43m            \u001b[49m\u001b[43mbase_sentiment\u001b[49m\u001b[38;5;241;43m.\u001b[39;49m\u001b[43mcopy\u001b[49m\u001b[43m(\u001b[49m\u001b[43m)\u001b[49m\u001b[43m)\u001b[49m\n",
      "\u001b[0;31mTypeError\u001b[0m: unhashable type: 'dict'"
     ]
    }
   ],
   "source": [
    "dict.fromkeys(twitter_api.trends.place(_id=WORLD_WOE_ID)[:50], \\\n",
    "            base_sentiment.copy())"
   ]
  },
  {
   "cell_type": "code",
   "execution_count": 137,
   "id": "29327084",
   "metadata": {},
   "outputs": [
    {
     "name": "stdout",
     "output_type": "stream",
     "text": [
      "#GRAMMYs\n",
      "BTS BTS BTS\n",
      "Pedri\n",
      "olivia\n",
      "#PeakyBlinders\n",
      "Wizkid\n",
      "NAMJOON\n",
      "halsey\n",
      "selena\n",
      "#الهلال_الشباب\n",
      "#JuveInter\n",
      "#DancaDosFamosos\n",
      "billie\n",
      "Veiga\n",
      "Dudu\n",
      "ariana\n",
      "Abel Ferreira\n",
      "Danilo\n",
      "Rafinha\n",
      "Calleri\n",
      "J BALVIN\n",
      "Angelique Kidjo\n",
      "Igor Gomes\n",
      "gaga\n",
      "sao paulo\n",
      "Xavi\n",
      "Bang PD\n",
      "Fortaleza\n",
      "NEVER BEFORE SEEN\n",
      "addison rae\n",
      "hoseok\n",
      "Orban\n",
      "Luciano\n",
      "エンタメプレゼンター\n",
      "Trikas\n",
      "seokjin\n",
      "Paysandu\n",
      "Louis Van Gaal\n",
      "Araujo\n",
      "Rogério\n",
      "Dembele\n",
      "Allianz\n",
      "Essence\n",
      "Kameto\n",
      "JIMINS\n",
      "Arboleda\n",
      "SOPE\n",
      "KIM TAEHYUNG\n",
      "Burna\n",
      "Bucha\n"
     ]
    }
   ],
   "source": [
    "for trend in twitter_api.trends.place(_id=WORLD_WOE_ID)[0]['trends'][:50]:\n",
    "    print(trend['name'])"
   ]
  },
  {
   "cell_type": "code",
   "execution_count": 149,
   "id": "1142d42b",
   "metadata": {},
   "outputs": [],
   "source": [
    "query = 'aaaaaaaaaaa OR bbbbbbbbbbbbb OR cccccccccccccc OR asssssssssssdasd OR ' + \\\n",
    "'asdaaaaaaaaaaaaaaaaaaaaaaaaauhudgoabsdlgbauñsdbglbasludbgoabsdlugalubsdibgulabsdug OR ' + \\\n",
    "' nksjdnvjkas djkg nlajsdngkjlnlkasdnlnsdndsajgnlasdkngasdasdasdasdasdassdasdasdasdlasdg OR ' +\\\n",
    "'jansdvjnasdjgnjlasdngkjnasjdkng jkansdkjgnjkasdngjknakjsdnjknaksdngjknasjdngjnasdjnkgjnjkasndjkgnkjasdng' + \\\n",
    "'aaaaaaaaaaaasndiuansidniasndinasindiasindninaisnidnianisnidniasnidniansidniinaindniinanisd OR '+\\\n",
    "'asdjansjdnajsndjansjdnajdnjasndjnasjndjansjdnaaaaaaaaaahhahahahhahahahahhahahahhahahahhahhahajasd'"
   ]
  },
  {
   "cell_type": "code",
   "execution_count": 150,
   "id": "1e33fe2f",
   "metadata": {
    "scrolled": true
   },
   "outputs": [
    {
     "name": "stdout",
     "output_type": "stream",
     "text": [
      "aaaaaaaaaaa OR bbbbbbbbbbbbb OR cccccccccccccc OR asssssssssssdasd OR asdaaaaaaaaaaaaaaaaaaaaaaaaauhudgoabsdlgbauñsdbglbasludbgoabsdlugalubsdibgulabsdug OR  nksjdnvjkas djkg nlajsdngkjlnlkasdnlnsdndsajgnlasdkngasdasdasdasdasdassdasdasdasdlasdg OR jansdvjnasdjgnjlasdngkjnasjdkng jkansdkjgnjkasdngjknakjsdnjknaksdngjknasjdngjnasdjnkgjnjkasndjkgnkjasdngaaaaaaaaaaaasndiuansidniasndinasindiasindninaisnidnianisnidniasnidniansidniinaindniinanisd OR asdjansjdnajsndjansjdnajdnjasndjnasjndjansjdnaaaaaaaaaahhahahahhahahahahhahahahhahahahhahhahajasd\n",
      "bbbbbbbbbbbbb OR cccccccccccccc OR asssssssssssdasd OR asdaaaaaaaaaaaaaaaaaaaaaaaaauhudgoabsdlgbauñsdbglbasludbgoabsdlugalubsdibgulabsdug OR  nksjdnvjkas djkg nlajsdngkjlnlkasdnlnsdndsajgnlasdkngasdasdasdasdasdassdasdasdasdlasdg OR jansdvjnasdjgnjlasdngkjnasjdkng jkansdkjgnjkasdngjknakjsdnjknaksdngjknasjdngjnasdjnkgjnjkasndjkgnkjasdngaaaaaaaaaaaasndiuansidniasndinasindiasindninaisnidnianisnidniasnidniansidniinaindniinanisd OR asdjansjdnajsndjansjdnajdnjasndjnasjndjansjdnaaaaaaaaaahhahahahhahahahahhahahahhahahahhahhahajasd\n"
     ]
    }
   ],
   "source": [
    "while(len(query)>512):\n",
    "    print(query)\n",
    "    query = query[query.find(' OR ')+len(' OR '):]\n"
   ]
  },
  {
   "cell_type": "code",
   "execution_count": 148,
   "id": "f8c454b3",
   "metadata": {},
   "outputs": [
    {
     "data": {
      "text/plain": [
       "542"
      ]
     },
     "execution_count": 148,
     "metadata": {},
     "output_type": "execute_result"
    }
   ],
   "source": [
    "len(query)"
   ]
  },
  {
   "cell_type": "code",
   "execution_count": 146,
   "id": "6c252b95",
   "metadata": {},
   "outputs": [
    {
     "data": {
      "text/plain": [
       "'cccccccccccccc OR asssssssssssdasd OR asdaaaaaaaaaaaaaaaaaaaaaaaaauhudgoabsdlgbauñsdbglbasludbgoabsdlugalubsdibgulabsdug OR  nksjdnvjkas djkg nlajsdngkjlnlkasdnlnsdndsajgnlasdkngasdasdasdasdasdassdasdasdasdlasdg OR jansdvjnasdjgnjlasdngkjnasjdkng jkansdkjgnjkasdngjknakjsdnjknaksdngjknasjdngjnasdjnkgjnjkasndjkgnkjasdngaaaaaaaaaaaasndiuansidniasndinasindiasindninaisnidnianisnidniasnidniansidniinaindniinanisd OR asdjansjdnajsndjansjdnajdnjasndjnasjndjansjdnaaaaaaaaaahhahahahhahahahahhahahahhahahahhahhahajasd'"
      ]
     },
     "execution_count": 146,
     "metadata": {},
     "output_type": "execute_result"
    }
   ],
   "source": [
    "query"
   ]
  },
  {
   "cell_type": "code",
   "execution_count": null,
   "id": "91c9c068",
   "metadata": {},
   "outputs": [],
   "source": []
  }
 ],
 "metadata": {
  "kernelspec": {
   "display_name": "Python 3 (ipykernel)",
   "language": "python",
   "name": "python3"
  },
  "language_info": {
   "codemirror_mode": {
    "name": "ipython",
    "version": 3
   },
   "file_extension": ".py",
   "mimetype": "text/x-python",
   "name": "python",
   "nbconvert_exporter": "python",
   "pygments_lexer": "ipython3",
   "version": "3.9.10"
  }
 },
 "nbformat": 4,
 "nbformat_minor": 5
}
