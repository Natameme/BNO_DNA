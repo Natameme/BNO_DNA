{
 "cells": [
  {
   "cell_type": "code",
   "execution_count": 1,
   "id": "90e45a17",
   "metadata": {},
   "outputs": [],
   "source": [
    "import twitter\n",
    "\n",
    "CONSUMER_KEY = 'OWAwcOfkzNSlIBGhAtQdNY4Im'\n",
    "CONSUMER_SECRET = '14iE08KZpZx44b4B0WfoAqvOPF7kXNdzkkv7fmXreqKb1fCzMc'\n",
    "OAUTH_TOKEN = ''\n",
    "OAUTH_TOKEN_SECRET = ''\n",
    "\n",
    "auth = twitter.oauth.OAuth(OAUTH_TOKEN, OAUTH_TOKEN_SECRET,\n",
    "                           CONSUMER_KEY, CONSUMER_SECRET)\n",
    "\n",
    "twitter_api = twitter.Twitter(auth=auth)"
   ]
  },
  {
   "cell_type": "code",
   "execution_count": 2,
   "id": "a09e7df4",
   "metadata": {},
   "outputs": [],
   "source": [
    "WORLD_WOE_ID = 1\n",
    "US_WOE_ID = 23424977\n",
    "world_trends = twitter_api.trends.place(_id=WORLD_WOE_ID)\n",
    "\n"
   ]
  },
  {
   "cell_type": "code",
   "execution_count": null,
   "id": "be087949",
   "metadata": {},
   "outputs": [],
   "source": [
    "count = 0\n",
    "sentiment = {'neg': 0.0, 'neu': 0.0, 'pos': 0.0, 'compound': 0.0}\n",
    "for trend in world_trends[0]['trends']:\n",
    "    search_results = twitter_api.search.tweets(q=trend['query'], count=100, result_type='popular')\n",
    "    print(trend['name'])\n",
    "    \n",
    "    keys=['neg', 'neu', 'pos', 'compound']\n",
    "    for status in search_results['statuses']:\n",
    "        tweet_sentiment = analyzer.polarity_scores(status['text'])\n",
    "        for key in keys:\n",
    "            sentiment[key] += tweet_sentiment[key]\n",
    "        count +=1\n",
    "\n",
    "for key in keys:\n",
    "    sentiment[key] /= count\n",
    "\n",
    "print(sentiment)"
   ]
  }
 ],
 "metadata": {
  "kernelspec": {
   "display_name": "Python 3 (ipykernel)",
   "language": "python",
   "name": "python3"
  },
  "language_info": {
   "codemirror_mode": {
    "name": "ipython",
    "version": 3
   },
   "file_extension": ".py",
   "mimetype": "text/x-python",
   "name": "python",
   "nbconvert_exporter": "python",
   "pygments_lexer": "ipython3",
   "version": "3.9.10"
  }
 },
 "nbformat": 4,
 "nbformat_minor": 5
}
