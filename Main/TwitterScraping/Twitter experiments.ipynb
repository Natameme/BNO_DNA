{
 "cells": [
  {
   "cell_type": "code",
   "execution_count": 1,
   "id": "74f76d96",
   "metadata": {},
   "outputs": [],
   "source": [
    "#Install everything\n",
    "#pip3 install python-osc\n",
    "#pip3 install twitter\n",
    "#pip3 install numpy\n",
    "#pip3 install nltk"
   ]
  },
  {
   "cell_type": "code",
   "execution_count": 24,
   "id": "7b52259c",
   "metadata": {},
   "outputs": [],
   "source": [
    "# Import everything\n",
    "import twitter\n",
    "from pythonosc.udp_client import SimpleUDPClient\n",
    "import nltk\n",
    "from nltk.sentiment.vader import SentimentIntensityAnalyzer\n",
    "import json\n",
    "#import numpy as np"
   ]
  },
  {
   "cell_type": "code",
   "execution_count": 25,
   "id": "8f8adb23",
   "metadata": {},
   "outputs": [],
   "source": [
    "# Instantiate the twitter api client\n",
    "CONSUMER_KEY = 'OWAwcOfkzNSlIBGhAtQdNY4Im'\n",
    "CONSUMER_SECRET = '14iE08KZpZx44b4B0WfoAqvOPF7kXNdzkkv7fmXreqKb1fCzMc'\n",
    "OAUTH_TOKEN = ''\n",
    "OAUTH_TOKEN_SECRET = ''\n",
    "\n",
    "auth = twitter.oauth.OAuth(OAUTH_TOKEN, OAUTH_TOKEN_SECRET,\n",
    "                           CONSUMER_KEY, CONSUMER_SECRET)\n",
    "\n",
    "twitter_api = twitter.Twitter(auth=auth)"
   ]
  },
  {
   "cell_type": "code",
   "execution_count": 26,
   "id": "67b27f86",
   "metadata": {},
   "outputs": [],
   "source": [
    "# Instantiate the OSC UDP client\n",
    "ip = \"127.0.0.1\"\n",
    "port = 57120\n",
    "\n",
    "client = SimpleUDPClient(ip, port)  # Create OSC client\n"
   ]
  },
  {
   "cell_type": "code",
   "execution_count": 27,
   "id": "ba638442",
   "metadata": {},
   "outputs": [
    {
     "name": "stderr",
     "output_type": "stream",
     "text": [
      "[nltk_data] Downloading package vader_lexicon to\n",
      "[nltk_data]     /Users/juanrieragomez/nltk_data...\n",
      "[nltk_data]   Package vader_lexicon is already up-to-date!\n"
     ]
    }
   ],
   "source": [
    "# Instantiate the sentiment analyzer\n",
    "nltk.download('vader_lexicon')\n",
    "analyzer = SentimentIntensityAnalyzer()"
   ]
  },
  {
   "cell_type": "code",
   "execution_count": 28,
   "id": "e74c424a",
   "metadata": {},
   "outputs": [],
   "source": [
    "# Obtain world trends\n",
    "WORLD_WOE_ID = 1\n",
    "US_WOE_ID = 23424977\n",
    "world_trends = twitter_api.trends.place(_id=WORLD_WOE_ID)"
   ]
  },
  {
   "cell_type": "code",
   "execution_count": 29,
   "id": "a7ab7550",
   "metadata": {},
   "outputs": [
    {
     "name": "stdout",
     "output_type": "stream",
     "text": [
      "{'neg': 0.025540160642570288, 'neu': 0.908483935742972, 'pos': 0.06599799196787151, 'compound': 0.10194598393574301}\n"
     ]
    }
   ],
   "source": [
    "# Obtain average twitter sentiment\n",
    "count = 0\n",
    "sentiment = {'neg': 0.0, 'neu': 0.0, 'pos': 0.0, 'compound': 0.0}\n",
    "for trend in world_trends[0]['trends']:\n",
    "    search_results = twitter_api.search.tweets(q=trend['query'], count=100, result_type='popular')   \n",
    "    keys=['neg', 'neu', 'pos', 'compound']\n",
    "    for status in search_results['statuses']:\n",
    "        tweet_sentiment = analyzer.polarity_scores(status['text'])\n",
    "        for key in keys:\n",
    "            sentiment[key] += tweet_sentiment[key]\n",
    "        count +=1\n",
    "\n",
    "for key in keys:\n",
    "    sentiment[key] /= count\n",
    "\n",
    "print(sentiment)"
   ]
  },
  {
   "cell_type": "code",
   "execution_count": 30,
   "id": "8333153a",
   "metadata": {},
   "outputs": [],
   "source": [
    "# Send the sentiment to SC\n",
    "client.send_message(\"/BNOOSC/Sentiment/\", [sentiment['neg'], sentiment['neu'], sentiment['pos'], sentiment['compound']])\n",
    "\n"
   ]
  },
  {
   "cell_type": "code",
   "execution_count": 56,
   "id": "e3216cd8",
   "metadata": {},
   "outputs": [],
   "source": [
    "since_id_hashtag = 0\n",
    "init_tweet_text = 'init'"
   ]
  },
  {
   "cell_type": "code",
   "execution_count": 79,
   "id": "0ede620a",
   "metadata": {},
   "outputs": [],
   "source": [
    "# Scan for custom Hashtags\n",
    "customHashtag = '#BNODNA'\n",
    "q = customHashtag' since_id:' + str(since_id_hashtag)\n",
    "count = 10\n",
    "search_results = twitter_api.search.tweets(q=q, count=count)\n",
    "statuses = search_results['statuses']\n",
    "#print(json.dumps(statuses[0], indent=1))\n",
    "#for status in statuses:\n",
    "#    print(status['text'])\n",
    "if(len(statuses)>0):\n",
    "    since_id_hashtag = statuses[0]['id']"
   ]
  },
  {
   "cell_type": "code",
   "execution_count": 80,
   "id": "427ac374",
   "metadata": {},
   "outputs": [],
   "source": [
    "# Send the customTweet to SC\n",
    "for status in statuses:\n",
    "    if customHashtag in status['text'] and init_tweet_text in status['text']:\n",
    "        print(\"INIT HASHTAG FOUND \" + status['created_at'])\n",
    "    else:\n",
    "        client.send_message(\"/BNOOSC/CustomHashtag/\", [customHashtag, status['text'].replace(customHashtag, '').strip()])"
   ]
  },
  {
   "cell_type": "code",
   "execution_count": 85,
   "id": "dce1c731",
   "metadata": {},
   "outputs": [],
   "source": [
    "# Create note strings\n",
    "notes = ['#A', '#B', '#C', '#D', '#E', '#F', '#G']\n",
    "flats = []\n",
    "sharps = []\n",
    "for note in notes:\n",
    "    flats.append(note + 'f')\n",
    "    sharps.append(note + 's')"
   ]
  },
  {
   "cell_type": "code",
   "execution_count": 84,
   "id": "a6efae25",
   "metadata": {},
   "outputs": [
    {
     "data": {
      "text/plain": [
       "['Af', 'Bf', 'Cf', 'Df', 'Ef', 'Ff', 'Gf']"
      ]
     },
     "execution_count": 84,
     "metadata": {},
     "output_type": "execute_result"
    }
   ],
   "source": []
  },
  {
   "cell_type": "code",
   "execution_count": null,
   "id": "c51b9b82",
   "metadata": {},
   "outputs": [],
   "source": []
  }
 ],
 "metadata": {
  "kernelspec": {
   "display_name": "Python 3 (ipykernel)",
   "language": "python",
   "name": "python3"
  },
  "language_info": {
   "codemirror_mode": {
    "name": "ipython",
    "version": 3
   },
   "file_extension": ".py",
   "mimetype": "text/x-python",
   "name": "python",
   "nbconvert_exporter": "python",
   "pygments_lexer": "ipython3",
   "version": "3.9.10"
  }
 },
 "nbformat": 4,
 "nbformat_minor": 5
}
